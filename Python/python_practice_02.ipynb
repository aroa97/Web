{
  "nbformat": 4,
  "nbformat_minor": 0,
  "metadata": {
    "colab": {
      "provenance": [],
      "authorship_tag": "ABX9TyOdmgW1z8XbeDUlcpmgZP7a",
      "include_colab_link": true
    },
    "kernelspec": {
      "name": "python3",
      "display_name": "Python 3"
    },
    "language_info": {
      "name": "python"
    }
  },
  "cells": [
    {
      "cell_type": "markdown",
      "metadata": {
        "id": "view-in-github",
        "colab_type": "text"
      },
      "source": [
        "<a href=\"https://colab.research.google.com/github/aroa97/Web/blob/main/python_practice_02.ipynb\" target=\"_parent\"><img src=\"https://colab.research.google.com/assets/colab-badge.svg\" alt=\"Open In Colab\"/></a>"
      ]
    },
    {
      "cell_type": "code",
      "execution_count": 25,
      "metadata": {
        "colab": {
          "base_uri": "https://localhost:8080/"
        },
        "id": "IzU_6My-8qFm",
        "outputId": "0af1457c-cae5-4f2e-f53b-403591911595"
      },
      "outputs": [
        {
          "output_type": "stream",
          "name": "stdout",
          "text": [
            "5\n",
            "{37, 6, 39, 8, 41, 44}\n",
            "{9, 10, 43, 21, 22, 23}\n",
            "{33, 34, 40, 41, 22, 30}\n",
            "{35, 41, 42, 15, 17, 26}\n",
            "{32, 36, 8, 41, 16, 28}\n"
          ]
        }
      ],
      "source": [
        "from random import *\n",
        "\n",
        "def online():\n",
        "  lnum = set([])\n",
        "  while True:\n",
        "    lnum.add(randrange(1, 46))\n",
        "    if len(lnum) == 6: break\n",
        "  print(lnum)\n",
        "\n",
        "lottoCnt = int(input())\n",
        "for i in range(lottoCnt):\n",
        "  online()"
      ]
    }
  ]
}
