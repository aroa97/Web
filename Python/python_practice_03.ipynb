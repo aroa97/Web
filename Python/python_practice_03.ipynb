{
  "nbformat": 4,
  "nbformat_minor": 0,
  "metadata": {
    "colab": {
      "provenance": [],
      "authorship_tag": "ABX9TyPyZyZyR2Btwg/0ku64KB/e",
      "include_colab_link": true
    },
    "kernelspec": {
      "name": "python3",
      "display_name": "Python 3"
    },
    "language_info": {
      "name": "python"
    }
  },
  "cells": [
    {
      "cell_type": "markdown",
      "metadata": {
        "id": "view-in-github",
        "colab_type": "text"
      },
      "source": [
        "<a href=\"https://colab.research.google.com/github/aroa97/Web/blob/main/python_practice_03.ipynb\" target=\"_parent\"><img src=\"https://colab.research.google.com/assets/colab-badge.svg\" alt=\"Open In Colab\"/></a>"
      ]
    },
    {
      "cell_type": "code",
      "execution_count": 3,
      "metadata": {
        "colab": {
          "base_uri": "https://localhost:8080/"
        },
        "id": "XlcHPr4fJS--",
        "outputId": "50857e1b-da8f-48fa-88a4-32e1012ded26"
      },
      "outputs": [
        {
          "output_type": "stream",
          "name": "stdout",
          "text": [
            "이름 : 찰리\t나이 : 20\t\n",
            "('파이썬', '자바', 'C', 'C++', 'C#', '자바스크립트') <class 'tuple'>\n",
            "이름 : 루시\t나이 : 25\t\n",
            "('코틀린', '스위프트') <class 'tuple'>\n"
          ]
        }
      ],
      "source": [
        "def profile(name, age, *language):\n",
        "  print(f\"이름 : {name}\\t나이 : {age}\\t\")\n",
        "  print(language, type(language))\n",
        "\n",
        "profile(\"찰리\", 20, \"파이썬\", \"자바\", \"C\", \"C++\", \"C#\", \"자바스크립트\")\n",
        "profile(\"루시\", 25, \"코틀린\", \"스위프트\")"
      ]
    },
    {
      "cell_type": "code",
      "source": [
        "def toDay(hour):\n",
        "  return hour // 24\n",
        "\n",
        "def toYear(day):\n",
        "  return day // 365, day % 365\n",
        "\n",
        "hour = int(input(\"시간을 입력해주세요 : \"))\n",
        "day = toDay(hour)\n",
        "year, rem = toYear(day)\n",
        "\n",
        "print(f\"{hour}시간은 {year}년 {rem}일이다\")"
      ],
      "metadata": {
        "colab": {
          "base_uri": "https://localhost:8080/"
        },
        "id": "_IMKhnO_julC",
        "outputId": "7d3cf4b5-eb50-4765-db37-70fbbaf9e3ee"
      },
      "execution_count": 19,
      "outputs": [
        {
          "output_type": "stream",
          "name": "stdout",
          "text": [
            "시간을 입력해주세요 : 10000\n",
            "10000시간은 1년 51일이다\n"
          ]
        }
      ]
    },
    {
      "cell_type": "code",
      "source": [
        "scores = {\"국어\" : 50,\"수학\" : 40,\"영어\" : 70}\n",
        "\n",
        "for subject, score in scores.items():\n",
        "  print(subject, score)\n"
      ],
      "metadata": {
        "colab": {
          "base_uri": "https://localhost:8080/"
        },
        "id": "Vy_qG7nn18Cn",
        "outputId": "d9186b7c-104f-43cc-a78f-761b72f086ee"
      },
      "execution_count": 36,
      "outputs": [
        {
          "output_type": "stream",
          "name": "stdout",
          "text": [
            "국어 50\n",
            "수학 40\n",
            "영어 70\n"
          ]
        }
      ]
    },
    {
      "cell_type": "code",
      "source": [
        "score = int(input(\"점수는? : \"))\n",
        "if score >= 90: print(\"A\")\n",
        "elif score >= 80: print(\"B\")\n",
        "elif score >= 70: print(\"C\")\n",
        "elif score >= 60: print(\"D\")\n",
        "else: print(\"F\")\n"
      ],
      "metadata": {
        "colab": {
          "base_uri": "https://localhost:8080/"
        },
        "id": "379Y7bNOZVWJ",
        "outputId": "360bfcdd-2f30-44a3-b752-fb2c27f79374"
      },
      "execution_count": 39,
      "outputs": [
        {
          "output_type": "stream",
          "name": "stdout",
          "text": [
            "점수는? : 59\n",
            "F\n"
          ]
        }
      ]
    },
    {
      "cell_type": "code",
      "source": [
        "cash = {\"달러\" : 1167.0, \"엔\" : 10.96, \"유로\" : 1268.0, \"위안\" : 171.0 }\n",
        "\n",
        "won = int(input(\"환전할 금액을 입력하세요 : \"))\n",
        "a = won / cash[\"달러\"]\n",
        "print(f\"달러 : {a:.3f}\")\n",
        "b = won / cash[\"엔\"]\n",
        "print(f\"엔 : {b:.3f}\")\n",
        "c = won / cash[\"유로\"]\n",
        "print(f\"유로 : {c:.3f}\")\n",
        "d = won / cash[\"위안\"]\n",
        "print(f\"위안 : {d:.3f}\")"
      ],
      "metadata": {
        "colab": {
          "base_uri": "https://localhost:8080/"
        },
        "id": "FvcWTh6Ijxz8",
        "outputId": "db2fa378-0522-45b1-d8c1-b3b3918fa3ad"
      },
      "execution_count": 45,
      "outputs": [
        {
          "output_type": "stream",
          "name": "stdout",
          "text": [
            "환전할 금액을 입력하세요 : 10000\n",
            "달러 : 8.569\n",
            "엔 : 912.409\n",
            "유로 : 7.886\n",
            "위안 : 58.480\n"
          ]
        }
      ]
    },
    {
      "cell_type": "code",
      "source": [
        "math = {1 : 90, 2 : 80, 3 : 20, 4 : 50, 5 : 90, 6 : 40, 7 : 70, 8 : 90, 9 : 10}\n",
        "eng = {1 : 100, 2 : 90, 3 : 30, 4 : 20, 5 : 30, 6 : 60, 7 : 50, 8 : 30, 9 : 90}\n",
        "lan = {1 : 95, 2 : 90, 3 : 30, 4 : 40, 5 : 90, 6 : 80, 7 : 70, 8 : 20, 9 : 10}\n",
        "\n",
        "for i in range(1, 10):\n",
        "  scoreM = math[i]\n",
        "  scoreE = eng[i]\n",
        "  scoreL = lan[i]\n",
        "  print(f\"{i}번 | 수학 : {scoreM: >3}, 영어 : {scoreE: >3}, 국어 : {scoreL: >3} | 총점 : {scoreM + scoreE + scoreL: >3} | 평균 : {round((scoreM + scoreE + scoreL) / 3)}\")"
      ],
      "metadata": {
        "colab": {
          "base_uri": "https://localhost:8080/"
        },
        "id": "SSIMwTAhldAs",
        "outputId": "a30a7cdc-b839-44b0-8da3-d69348e15f03"
      },
      "execution_count": 50,
      "outputs": [
        {
          "output_type": "stream",
          "name": "stdout",
          "text": [
            "1번 | 수학 :  90, 영어 : 100, 국어 :  95 | 총점 : 285 | 평균 : 95\n",
            "2번 | 수학 :  80, 영어 :  90, 국어 :  90 | 총점 : 260 | 평균 : 87\n",
            "3번 | 수학 :  20, 영어 :  30, 국어 :  30 | 총점 :  80 | 평균 : 27\n",
            "4번 | 수학 :  50, 영어 :  20, 국어 :  40 | 총점 : 110 | 평균 : 37\n",
            "5번 | 수학 :  90, 영어 :  30, 국어 :  90 | 총점 : 210 | 평균 : 70\n",
            "6번 | 수학 :  40, 영어 :  60, 국어 :  80 | 총점 : 180 | 평균 : 60\n",
            "7번 | 수학 :  70, 영어 :  50, 국어 :  70 | 총점 : 190 | 평균 : 63\n",
            "8번 | 수학 :  90, 영어 :  30, 국어 :  20 | 총점 : 140 | 평균 : 47\n",
            "9번 | 수학 :  10, 영어 :  90, 국어 :  10 | 총점 : 110 | 평균 : 37\n"
          ]
        }
      ]
    }
  ]
}
