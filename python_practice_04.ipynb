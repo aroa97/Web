{
  "nbformat": 4,
  "nbformat_minor": 0,
  "metadata": {
    "colab": {
      "provenance": [],
      "authorship_tag": "ABX9TyMfSD8VznnEfnS2emdJKGrf",
      "include_colab_link": true
    },
    "kernelspec": {
      "name": "python3",
      "display_name": "Python 3"
    },
    "language_info": {
      "name": "python"
    }
  },
  "cells": [
    {
      "cell_type": "markdown",
      "metadata": {
        "id": "view-in-github",
        "colab_type": "text"
      },
      "source": [
        "<a href=\"https://colab.research.google.com/github/aroa97/Web/blob/main/python_practice_04.ipynb\" target=\"_parent\"><img src=\"https://colab.research.google.com/assets/colab-badge.svg\" alt=\"Open In Colab\"/></a>"
      ]
    },
    {
      "cell_type": "code",
      "execution_count": 9,
      "metadata": {
        "colab": {
          "base_uri": "https://localhost:8080/"
        },
        "id": "vhqNztbcj4BQ",
        "outputId": "236f5c0c-f32b-4249-f019-56e939f00976"
      },
      "outputs": [
        {
          "output_type": "stream",
          "name": "stdout",
          "text": [
            "이름 : 찰리\t 나이 : 20\t 6\t파이썬  자바  C  C++  C#  자바스크립트  \n",
            "이름 : 루시\t 나이 : 25\t 2\t코틀린  스위프트  \n"
          ]
        }
      ],
      "source": [
        "def profile(name, age, *language):\n",
        "  print(f\"이름 : {name}\\t 나이 : {age}\\t\", end=\" \")\n",
        "  print(len(language), end=\"\\t\")\n",
        "  for i in range(len(language)): print(language[i], end=\"  \")\n",
        "  print()\n",
        "\n",
        "profile(\"찰리\", 20, \"파이썬\", \"자바\", \"C\", \"C++\", \"C#\", \"자바스크립트\")\n",
        "profile(\"루시\", 25, \"코틀린\", \"스위프트\")\n"
      ]
    },
    {
      "cell_type": "code",
      "source": [
        "def sum(a, b):\n",
        "  return a + b\n",
        "\n",
        "valSum = sum(2, 3)\n",
        "print(f\"더한값은 {valSum} 입니다\")"
      ],
      "metadata": {
        "colab": {
          "base_uri": "https://localhost:8080/"
        },
        "id": "IBuDy0sI8qrh",
        "outputId": "05ea3c87-3620-446b-e0de-54e72b7a8217"
      },
      "execution_count": 16,
      "outputs": [
        {
          "output_type": "stream",
          "name": "stdout",
          "text": [
            "더한값은 5 입니다\n"
          ]
        }
      ]
    },
    {
      "cell_type": "code",
      "source": [
        "def make_url(url):\n",
        "  return \"http://www.\" + url + \".com\"\n",
        "\n",
        "url = make_url(\"naver\")\n",
        "print(f\"URL은 {url} 입니다\")"
      ],
      "metadata": {
        "colab": {
          "base_uri": "https://localhost:8080/"
        },
        "id": "fVwmikYyDJNT",
        "outputId": "57c88271-14ca-4887-b15f-a0d3c338a4bf"
      },
      "execution_count": 19,
      "outputs": [
        {
          "output_type": "stream",
          "name": "stdout",
          "text": [
            "URL은 http://www.naver.com 입니다\n"
          ]
        }
      ]
    },
    {
      "cell_type": "code",
      "source": [
        "class telAddr:\n",
        "  def __init__(self, name, age, number):\n",
        "    self.name = name\n",
        "    self.age = age\n",
        "    self.number = number\n",
        "\n",
        "  def setName(self, name):\n",
        "    self.name = name\n",
        "\n",
        "  def setAge(self, age):\n",
        "    self.age = age\n",
        "\n",
        "  def setTel(self, number):\n",
        "    self.number = number\n",
        "\n",
        "telBook = []\n",
        "te = telAddr(\"순희\", 24, \"010-625-9928\")\n",
        "telBook.append(te)\n",
        "te = telAddr(\"철수\", 36, \"010-536-9019\")\n",
        "telBook.append(te)\n",
        "te = telAddr(\"말희\", 40, \"010-893-0092\")\n",
        "telBook.append(te)\n",
        "te = telAddr(\"순신\", 26, \"010-772-9920\")\n",
        "telBook.append(te)\n",
        "\n",
        "for i in telBook: print(i.name, i.age, i.number)"
      ],
      "metadata": {
        "colab": {
          "base_uri": "https://localhost:8080/"
        },
        "id": "7zULNToZTJbt",
        "outputId": "dc4c26ea-314b-487e-d501-224a727a8b3f"
      },
      "execution_count": 42,
      "outputs": [
        {
          "output_type": "stream",
          "name": "stdout",
          "text": [
            "순희 24 010-625-9928\n",
            "철수 36 010-536-9019\n",
            "말희 40 010-893-0092\n",
            "순신 26 010-772-9920\n"
          ]
        }
      ]
    },
    {
      "cell_type": "code",
      "source": [
        "class Account:\n",
        "  def __init__(self, bank, name, accountNumber, balance):\n",
        "    self.bank = bank\n",
        "    self.name = name\n",
        "    self.accountNumber = accountNumber\n",
        "    self.balance = balance\n",
        "\n",
        "  def deposit(self, money):\n",
        "    self.balance += money\n",
        "\n",
        "  def withdraw(self, money):\n",
        "    if self.balance < money: print(\"현재 잔액이 부족합니다.\")\n",
        "    else: self.balance -= money\n",
        "\n",
        "  def display_info(self):\n",
        "    print(f\"{self.name}님의 현재 잔액은 {self.balance}원 입니다.\")\n",
        "\n",
        "wori = Account(\"우리은행\", \"박위비\", \"74857-993-0029\", 200000)\n",
        "shin = Account(\"신한은행\", \"김영호\", \"94833-003399\", 170000)\n",
        "\n",
        "wori.deposit(2000)\n",
        "wori.deposit(1000)\n",
        "wori.withdraw(9000)\n",
        "shin.deposit(1000)\n",
        "\n",
        "wori.display_info()\n",
        "shin.display_info()\n",
        "\n",
        "shin.withdraw(200000)"
      ],
      "metadata": {
        "colab": {
          "base_uri": "https://localhost:8080/"
        },
        "id": "zbCpe3eI9SxD",
        "outputId": "22a94c04-0c4e-4390-ab79-23af55a58164"
      },
      "execution_count": 45,
      "outputs": [
        {
          "output_type": "stream",
          "name": "stdout",
          "text": [
            "박위비님의 현재 잔액은 194000원 입니다.\n",
            "김영호님의 현재 잔액은 171000원 입니다.\n",
            "현재 잔액이 부족합니다.\n"
          ]
        }
      ]
    }
  ]
}